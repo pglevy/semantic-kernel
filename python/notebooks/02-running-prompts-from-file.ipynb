{
 "cells": [
  {
   "attachments": {},
   "cell_type": "markdown",
   "id": "692e361b",
   "metadata": {},
   "source": [
    "# How to run a prompt plugins from file\n",
    "Now that you're familiar with Kernel basics, let's see how the kernel allows you to run Prompt Plugins and Prompt Functions stored on disk. \n",
    "\n",
    "A Prompt Plugin is a collection of Semantic Functions, where each function is defined with natural language that can be provided with a text file. \n",
    "\n",
    "Refer to our [glossary](https://github.com/microsoft/semantic-kernel/blob/main/docs/GLOSSARY.md) for an in-depth guide to the terms.\n",
    "\n",
    "The repository includes some examples under the [samples](https://github.com/microsoft/semantic-kernel/tree/main/samples) folder.\n",
    "\n",
    "For instance, [this](../../plugins/FunPlugin/Joke/skprompt.txt) is the **Joke function** part of the **FunPlugin plugin**:"
   ]
  },
  {
   "attachments": {},
   "cell_type": "markdown",
   "id": "f3ce1efe",
   "metadata": {},
   "source": [
    "```\n",
    "WRITE EXACTLY ONE JOKE or HUMOROUS STORY ABOUT THE TOPIC BELOW.\n",
    "JOKE MUST BE:\n",
    "- G RATED\n",
    "- WORKPLACE/FAMILY SAFE\n",
    "NO SEXISM, RACISM OR OTHER BIAS/BIGOTRY.\n",
    "BE CREATIVE AND FUNNY. I WANT TO LAUGH.\n",
    "+++++\n",
    "{{$input}}\n",
    "+++++\n",
    "```"
   ]
  },
  {
   "attachments": {},
   "cell_type": "markdown",
   "id": "afdb96d6",
   "metadata": {},
   "source": [
    "Note the special **`{{$input}}`** token, which is a variable that is automatically passed when invoking the function, commonly referred to as a \"function parameter\". \n",
    "\n",
    "We'll explore later how functions can accept multiple variables, as well as invoke other functions."
   ]
  },
  {
   "attachments": {},
   "cell_type": "markdown",
   "id": "c3bd5134",
   "metadata": {},
   "source": [
    "\n",
    "In the same folder you'll notice a second [config.json](../../plugins/FunPlugin/Joke/config.json) file. The file is optional, and is used to set some parameters for large language models like Temperature, TopP, Stop Sequences, etc.\n",
    "\n",
    "```\n",
    "{\n",
    "  \"schema\": 1,\n",
    "  \"description\": \"Generate a funny joke\",\n",
    "  \"execution_settings\": {\n",
    "    \"default\": {\n",
    "      \"max_tokens\": 1000,\n",
    "      \"temperature\": 0.9,\n",
    "      \"top_p\": 0.0,\n",
    "      \"presence_penalty\": 0.0,\n",
    "      \"frequency_penalty\": 0.0\n",
    "    }\n",
    "  },\n",
    "  \"input_variables\": [\n",
    "    {\n",
    "      \"name\": \"input\",\n",
    "      \"description\": \"Joke subject\",\n",
    "      \"default\": \"\"\n",
    "    },\n",
    "    {\n",
    "      \"name\": \"style\",\n",
    "      \"description\": \"Give a hint about the desired joke style\",\n",
    "      \"default\": \"\"\n",
    "    }\n",
    "  ]\n",
    "}\n",
    "\n",
    "```"
   ]
  },
  {
   "attachments": {},
   "cell_type": "markdown",
   "id": "384ff07f",
   "metadata": {},
   "source": [
    "Given a prompt function defined by these files, this is how to load and use a file based prompt function.\n",
    "\n",
    "Load and configure the kernel, as usual, loading also the AI service settings defined in the [Setup notebook](00-getting-started.ipynb):"
   ]
  },
  {
   "cell_type": "code",
   "execution_count": 1,
   "id": "365cfc01",
   "metadata": {},
   "outputs": [
    {
     "name": "stdout",
     "output_type": "stream",
     "text": [
      "Requirement already satisfied: semantic-kernel==0.9.4b1 in /Users/philip.levy/.pyenv/versions/3.12.2/lib/python3.12/site-packages (0.9.4b1)\n",
      "Requirement already satisfied: aiohttp<4.0,>=3.8 in /Users/philip.levy/.pyenv/versions/3.12.2/lib/python3.12/site-packages (from semantic-kernel==0.9.4b1) (3.9.3)\n",
      "Requirement already satisfied: defusedxml<0.8.0,>=0.7.1 in /Users/philip.levy/.pyenv/versions/3.12.2/lib/python3.12/site-packages (from semantic-kernel==0.9.4b1) (0.7.1)\n",
      "Requirement already satisfied: grpcio>=1.50.0 in /Users/philip.levy/.pyenv/versions/3.12.2/lib/python3.12/site-packages (from semantic-kernel==0.9.4b1) (1.62.1)\n",
      "Requirement already satisfied: jinja2<4.0.0,>=3.1.3 in /Users/philip.levy/.pyenv/versions/3.12.2/lib/python3.12/site-packages (from semantic-kernel==0.9.4b1) (3.1.3)\n",
      "Requirement already satisfied: motor<4.0.0,>=3.3.2 in /Users/philip.levy/.pyenv/versions/3.12.2/lib/python3.12/site-packages (from semantic-kernel==0.9.4b1) (3.4.0)\n",
      "Requirement already satisfied: nest-asyncio<2.0.0,>=1.6.0 in /Users/philip.levy/.pyenv/versions/3.12.2/lib/python3.12/site-packages (from semantic-kernel==0.9.4b1) (1.6.0)\n",
      "Requirement already satisfied: numpy>=1.26 in /Users/philip.levy/.pyenv/versions/3.12.2/lib/python3.12/site-packages (from semantic-kernel==0.9.4b1) (1.26.4)\n",
      "Requirement already satisfied: openai>=1.0 in /Users/philip.levy/.pyenv/versions/3.12.2/lib/python3.12/site-packages (from semantic-kernel==0.9.4b1) (1.14.3)\n",
      "Requirement already satisfied: openapi_core<0.20,>=0.18 in /Users/philip.levy/.pyenv/versions/3.12.2/lib/python3.12/site-packages (from semantic-kernel==0.9.4b1) (0.19.0)\n",
      "Requirement already satisfied: prance<24.0.0.0,>=23.6.21.0 in /Users/philip.levy/.pyenv/versions/3.12.2/lib/python3.12/site-packages (from semantic-kernel==0.9.4b1) (23.6.21.0)\n",
      "Requirement already satisfied: pybars4<0.10.0,>=0.9.13 in /Users/philip.levy/.pyenv/versions/3.12.2/lib/python3.12/site-packages (from semantic-kernel==0.9.4b1) (0.9.13)\n",
      "Requirement already satisfied: pydantic<3,>=2 in /Users/philip.levy/.pyenv/versions/3.12.2/lib/python3.12/site-packages (from semantic-kernel==0.9.4b1) (2.6.4)\n",
      "Requirement already satisfied: python-dotenv<2.0.0,>=1.0.1 in /Users/philip.levy/.pyenv/versions/3.12.2/lib/python3.12/site-packages (from semantic-kernel==0.9.4b1) (1.0.1)\n",
      "Requirement already satisfied: regex<2024.0.0,>=2023.6.3 in /Users/philip.levy/.pyenv/versions/3.12.2/lib/python3.12/site-packages (from semantic-kernel==0.9.4b1) (2023.12.25)\n",
      "Requirement already satisfied: scipy>=1.12.0 in /Users/philip.levy/.pyenv/versions/3.12.2/lib/python3.12/site-packages (from semantic-kernel==0.9.4b1) (1.12.0)\n",
      "Requirement already satisfied: aiosignal>=1.1.2 in /Users/philip.levy/.pyenv/versions/3.12.2/lib/python3.12/site-packages (from aiohttp<4.0,>=3.8->semantic-kernel==0.9.4b1) (1.3.1)\n",
      "Requirement already satisfied: attrs>=17.3.0 in /Users/philip.levy/.pyenv/versions/3.12.2/lib/python3.12/site-packages (from aiohttp<4.0,>=3.8->semantic-kernel==0.9.4b1) (23.2.0)\n",
      "Requirement already satisfied: frozenlist>=1.1.1 in /Users/philip.levy/.pyenv/versions/3.12.2/lib/python3.12/site-packages (from aiohttp<4.0,>=3.8->semantic-kernel==0.9.4b1) (1.4.1)\n",
      "Requirement already satisfied: multidict<7.0,>=4.5 in /Users/philip.levy/.pyenv/versions/3.12.2/lib/python3.12/site-packages (from aiohttp<4.0,>=3.8->semantic-kernel==0.9.4b1) (6.0.5)\n",
      "Requirement already satisfied: yarl<2.0,>=1.0 in /Users/philip.levy/.pyenv/versions/3.12.2/lib/python3.12/site-packages (from aiohttp<4.0,>=3.8->semantic-kernel==0.9.4b1) (1.9.4)\n",
      "Requirement already satisfied: MarkupSafe>=2.0 in /Users/philip.levy/.pyenv/versions/3.12.2/lib/python3.12/site-packages (from jinja2<4.0.0,>=3.1.3->semantic-kernel==0.9.4b1) (2.1.5)\n",
      "Requirement already satisfied: pymongo<5,>=4.5 in /Users/philip.levy/.pyenv/versions/3.12.2/lib/python3.12/site-packages (from motor<4.0.0,>=3.3.2->semantic-kernel==0.9.4b1) (4.6.3)\n",
      "Requirement already satisfied: anyio<5,>=3.5.0 in /Users/philip.levy/.pyenv/versions/3.12.2/lib/python3.12/site-packages (from openai>=1.0->semantic-kernel==0.9.4b1) (4.3.0)\n",
      "Requirement already satisfied: distro<2,>=1.7.0 in /Users/philip.levy/.pyenv/versions/3.12.2/lib/python3.12/site-packages (from openai>=1.0->semantic-kernel==0.9.4b1) (1.9.0)\n",
      "Requirement already satisfied: httpx<1,>=0.23.0 in /Users/philip.levy/.pyenv/versions/3.12.2/lib/python3.12/site-packages (from openai>=1.0->semantic-kernel==0.9.4b1) (0.27.0)\n",
      "Requirement already satisfied: sniffio in /Users/philip.levy/.pyenv/versions/3.12.2/lib/python3.12/site-packages (from openai>=1.0->semantic-kernel==0.9.4b1) (1.3.1)\n",
      "Requirement already satisfied: tqdm>4 in /Users/philip.levy/.pyenv/versions/3.12.2/lib/python3.12/site-packages (from openai>=1.0->semantic-kernel==0.9.4b1) (4.66.2)\n",
      "Requirement already satisfied: typing-extensions<5,>=4.7 in /Users/philip.levy/.pyenv/versions/3.12.2/lib/python3.12/site-packages (from openai>=1.0->semantic-kernel==0.9.4b1) (4.10.0)\n",
      "Requirement already satisfied: isodate in /Users/philip.levy/.pyenv/versions/3.12.2/lib/python3.12/site-packages (from openapi_core<0.20,>=0.18->semantic-kernel==0.9.4b1) (0.6.1)\n",
      "Requirement already satisfied: jsonschema<5.0.0,>=4.18.0 in /Users/philip.levy/.pyenv/versions/3.12.2/lib/python3.12/site-packages (from openapi_core<0.20,>=0.18->semantic-kernel==0.9.4b1) (4.21.1)\n",
      "Requirement already satisfied: jsonschema-path<0.4.0,>=0.3.1 in /Users/philip.levy/.pyenv/versions/3.12.2/lib/python3.12/site-packages (from openapi_core<0.20,>=0.18->semantic-kernel==0.9.4b1) (0.3.2)\n",
      "Requirement already satisfied: more-itertools in /Users/philip.levy/.pyenv/versions/3.12.2/lib/python3.12/site-packages (from openapi_core<0.20,>=0.18->semantic-kernel==0.9.4b1) (10.2.0)\n",
      "Requirement already satisfied: openapi-schema-validator<0.7.0,>=0.6.0 in /Users/philip.levy/.pyenv/versions/3.12.2/lib/python3.12/site-packages (from openapi_core<0.20,>=0.18->semantic-kernel==0.9.4b1) (0.6.2)\n",
      "Requirement already satisfied: openapi-spec-validator<0.8.0,>=0.7.1 in /Users/philip.levy/.pyenv/versions/3.12.2/lib/python3.12/site-packages (from openapi_core<0.20,>=0.18->semantic-kernel==0.9.4b1) (0.7.1)\n",
      "Requirement already satisfied: parse in /Users/philip.levy/.pyenv/versions/3.12.2/lib/python3.12/site-packages (from openapi_core<0.20,>=0.18->semantic-kernel==0.9.4b1) (1.20.1)\n",
      "Requirement already satisfied: werkzeug in /Users/philip.levy/.pyenv/versions/3.12.2/lib/python3.12/site-packages (from openapi_core<0.20,>=0.18->semantic-kernel==0.9.4b1) (3.0.1)\n",
      "Requirement already satisfied: chardet>=3.0 in /Users/philip.levy/.pyenv/versions/3.12.2/lib/python3.12/site-packages (from prance<24.0.0.0,>=23.6.21.0->semantic-kernel==0.9.4b1) (5.2.0)\n",
      "Requirement already satisfied: ruamel.yaml>=0.17.10 in /Users/philip.levy/.pyenv/versions/3.12.2/lib/python3.12/site-packages (from prance<24.0.0.0,>=23.6.21.0->semantic-kernel==0.9.4b1) (0.18.6)\n",
      "Requirement already satisfied: requests>=2.25 in /Users/philip.levy/.pyenv/versions/3.12.2/lib/python3.12/site-packages (from prance<24.0.0.0,>=23.6.21.0->semantic-kernel==0.9.4b1) (2.31.0)\n",
      "Requirement already satisfied: six~=1.15 in /Users/philip.levy/.pyenv/versions/3.12.2/lib/python3.12/site-packages (from prance<24.0.0.0,>=23.6.21.0->semantic-kernel==0.9.4b1) (1.16.0)\n",
      "Requirement already satisfied: packaging>=21.3 in /Users/philip.levy/.pyenv/versions/3.12.2/lib/python3.12/site-packages (from prance<24.0.0.0,>=23.6.21.0->semantic-kernel==0.9.4b1) (24.0)\n",
      "Requirement already satisfied: PyMeta3>=0.5.1 in /Users/philip.levy/.pyenv/versions/3.12.2/lib/python3.12/site-packages (from pybars4<0.10.0,>=0.9.13->semantic-kernel==0.9.4b1) (0.5.1)\n",
      "Requirement already satisfied: annotated-types>=0.4.0 in /Users/philip.levy/.pyenv/versions/3.12.2/lib/python3.12/site-packages (from pydantic<3,>=2->semantic-kernel==0.9.4b1) (0.6.0)\n",
      "Requirement already satisfied: pydantic-core==2.16.3 in /Users/philip.levy/.pyenv/versions/3.12.2/lib/python3.12/site-packages (from pydantic<3,>=2->semantic-kernel==0.9.4b1) (2.16.3)\n",
      "Requirement already satisfied: idna>=2.8 in /Users/philip.levy/.pyenv/versions/3.12.2/lib/python3.12/site-packages (from anyio<5,>=3.5.0->openai>=1.0->semantic-kernel==0.9.4b1) (3.6)\n",
      "Requirement already satisfied: certifi in /Users/philip.levy/.pyenv/versions/3.12.2/lib/python3.12/site-packages (from httpx<1,>=0.23.0->openai>=1.0->semantic-kernel==0.9.4b1) (2024.2.2)\n",
      "Requirement already satisfied: httpcore==1.* in /Users/philip.levy/.pyenv/versions/3.12.2/lib/python3.12/site-packages (from httpx<1,>=0.23.0->openai>=1.0->semantic-kernel==0.9.4b1) (1.0.5)\n",
      "Requirement already satisfied: h11<0.15,>=0.13 in /Users/philip.levy/.pyenv/versions/3.12.2/lib/python3.12/site-packages (from httpcore==1.*->httpx<1,>=0.23.0->openai>=1.0->semantic-kernel==0.9.4b1) (0.14.0)\n",
      "Requirement already satisfied: jsonschema-specifications>=2023.03.6 in /Users/philip.levy/.pyenv/versions/3.12.2/lib/python3.12/site-packages (from jsonschema<5.0.0,>=4.18.0->openapi_core<0.20,>=0.18->semantic-kernel==0.9.4b1) (2023.12.1)\n",
      "Requirement already satisfied: referencing>=0.28.4 in /Users/philip.levy/.pyenv/versions/3.12.2/lib/python3.12/site-packages (from jsonschema<5.0.0,>=4.18.0->openapi_core<0.20,>=0.18->semantic-kernel==0.9.4b1) (0.31.1)\n",
      "Requirement already satisfied: rpds-py>=0.7.1 in /Users/philip.levy/.pyenv/versions/3.12.2/lib/python3.12/site-packages (from jsonschema<5.0.0,>=4.18.0->openapi_core<0.20,>=0.18->semantic-kernel==0.9.4b1) (0.18.0)\n",
      "Requirement already satisfied: PyYAML>=5.1 in /Users/philip.levy/.pyenv/versions/3.12.2/lib/python3.12/site-packages (from jsonschema-path<0.4.0,>=0.3.1->openapi_core<0.20,>=0.18->semantic-kernel==0.9.4b1) (6.0.1)\n",
      "Requirement already satisfied: pathable<0.5.0,>=0.4.1 in /Users/philip.levy/.pyenv/versions/3.12.2/lib/python3.12/site-packages (from jsonschema-path<0.4.0,>=0.3.1->openapi_core<0.20,>=0.18->semantic-kernel==0.9.4b1) (0.4.3)\n",
      "Requirement already satisfied: rfc3339-validator in /Users/philip.levy/.pyenv/versions/3.12.2/lib/python3.12/site-packages (from openapi-schema-validator<0.7.0,>=0.6.0->openapi_core<0.20,>=0.18->semantic-kernel==0.9.4b1) (0.1.4)\n",
      "Requirement already satisfied: lazy-object-proxy<2.0.0,>=1.7.1 in /Users/philip.levy/.pyenv/versions/3.12.2/lib/python3.12/site-packages (from openapi-spec-validator<0.8.0,>=0.7.1->openapi_core<0.20,>=0.18->semantic-kernel==0.9.4b1) (1.10.0)\n",
      "Requirement already satisfied: dnspython<3.0.0,>=1.16.0 in /Users/philip.levy/.pyenv/versions/3.12.2/lib/python3.12/site-packages (from pymongo<5,>=4.5->motor<4.0.0,>=3.3.2->semantic-kernel==0.9.4b1) (2.6.1)\n",
      "Requirement already satisfied: charset-normalizer<4,>=2 in /Users/philip.levy/.pyenv/versions/3.12.2/lib/python3.12/site-packages (from requests>=2.25->prance<24.0.0.0,>=23.6.21.0->semantic-kernel==0.9.4b1) (3.3.2)\n",
      "Requirement already satisfied: urllib3<3,>=1.21.1 in /Users/philip.levy/.pyenv/versions/3.12.2/lib/python3.12/site-packages (from requests>=2.25->prance<24.0.0.0,>=23.6.21.0->semantic-kernel==0.9.4b1) (2.2.1)\n",
      "Requirement already satisfied: ruamel.yaml.clib>=0.2.7 in /Users/philip.levy/.pyenv/versions/3.12.2/lib/python3.12/site-packages (from ruamel.yaml>=0.17.10->prance<24.0.0.0,>=23.6.21.0->semantic-kernel==0.9.4b1) (0.2.8)\n"
     ]
    }
   ],
   "source": [
    "!python -m pip install semantic-kernel==0.9.4b1"
   ]
  },
  {
   "cell_type": "code",
   "execution_count": 2,
   "id": "fdb865a7",
   "metadata": {},
   "outputs": [],
   "source": [
    "from services import Service\n",
    "\n",
    "# Select a service to use for this notebook (available services: OpenAI, AzureOpenAI, HuggingFace)\n",
    "selectedService = Service.OpenAI"
   ]
  },
  {
   "cell_type": "code",
   "execution_count": 3,
   "id": "b0062a24",
   "metadata": {},
   "outputs": [],
   "source": [
    "import semantic_kernel as sk\n",
    "\n",
    "kernel = sk.Kernel()\n",
    "\n",
    "service_id = None\n",
    "if selectedService == Service.OpenAI:\n",
    "    from semantic_kernel.connectors.ai.open_ai import OpenAIChatCompletion\n",
    "\n",
    "    api_key, org_id = sk.openai_settings_from_dot_env()\n",
    "    service_id = \"default\"\n",
    "    kernel.add_service(\n",
    "        OpenAIChatCompletion(service_id=service_id, ai_model_id=\"gpt-3.5-turbo-1106\", api_key=api_key, org_id=org_id),\n",
    "    )\n",
    "elif selectedService == Service.AzureOpenAI:\n",
    "    from semantic_kernel.connectors.ai.open_ai import AzureChatCompletion\n",
    "\n",
    "    deployment, api_key, endpoint = sk.azure_openai_settings_from_dot_env()\n",
    "    service_id = \"default\"\n",
    "    kernel.add_service(\n",
    "        AzureChatCompletion(service_id=service_id, deployment_name=deployment, endpoint=endpoint, api_key=api_key),\n",
    "    )"
   ]
  },
  {
   "attachments": {},
   "cell_type": "markdown",
   "id": "fd5ff1f4",
   "metadata": {},
   "source": [
    "Import the plugin and all its functions:"
   ]
  },
  {
   "cell_type": "code",
   "execution_count": 4,
   "id": "56ee184d",
   "metadata": {},
   "outputs": [],
   "source": [
    "# note: using plugins from the samples folder\n",
    "plugins_directory = \"../../samples/plugins\"\n",
    "\n",
    "funFunctions = kernel.import_plugin_from_prompt_directory(plugins_directory, \"FunPlugin\")\n",
    "\n",
    "jokeFunction = funFunctions[\"Joke\"]"
   ]
  },
  {
   "attachments": {},
   "cell_type": "markdown",
   "id": "edd99fa0",
   "metadata": {},
   "source": [
    "How to use the plugin functions, e.g. generate a joke about \"*time travel to dinosaur age*\":"
   ]
  },
  {
   "cell_type": "code",
   "execution_count": 5,
   "id": "6effe63b",
   "metadata": {},
   "outputs": [
    {
     "name": "stdout",
     "output_type": "stream",
     "text": [
      "Why don't you ever see dinosaurs at the airport?\n",
      "\n",
      "Because they're always stuck in the dino-saur line!\n"
     ]
    }
   ],
   "source": [
    "result = await kernel.invoke(jokeFunction, sk.KernelArguments(input=\"travel to dinosaur age\", style=\"silly\"))\n",
    "print(result)"
   ]
  },
  {
   "attachments": {},
   "cell_type": "markdown",
   "id": "2281a1fc",
   "metadata": {},
   "source": [
    "Great, now that you know how to load a plugin from disk, let's show how you can [create and run a prompt function inline.](./03-prompt-function-inline.ipynb)"
   ]
  }
 ],
 "metadata": {
  "kernelspec": {
   "display_name": "Python 3 (ipykernel)",
   "language": "python",
   "name": "python3"
  },
  "language_info": {
   "codemirror_mode": {
    "name": "ipython",
    "version": 3
   },
   "file_extension": ".py",
   "mimetype": "text/x-python",
   "name": "python",
   "nbconvert_exporter": "python",
   "pygments_lexer": "ipython3",
   "version": "3.12.2"
  }
 },
 "nbformat": 4,
 "nbformat_minor": 5
}
