{
 "cells": [
  {
   "attachments": {},
   "cell_type": "markdown",
   "id": "fde98ddf",
   "metadata": {},
   "source": [
    "# Creating a basic chat experience with kernel arguments\n",
    "\n",
    "In this example, we show how you can build a simple chat bot by sending and updating the kernel arguments with your requests. \n",
    "\n",
    "We introduce the Kernel Arguments object which in this demo functions similarly as a key-value store that you can use when running the kernel.\n",
    "\n",
    "The chat history is local (i.e. in your computer's RAM) and not persisted anywhere beyond the life of this Jupyter session.\n",
    "\n",
    "In future examples, we will show how to persist the chat history on disk so that you can bring it into your applications.  \n",
    "\n",
    "In this chat scenario, as the user talks back and forth with the bot, the chat context gets populated with the history of the conversation. During each new run of the kernel, the kernel arguments and chat history can provide the AI with its variables' content. "
   ]
  },
  {
   "cell_type": "code",
   "execution_count": null,
   "id": "92f69b34",
   "metadata": {},
   "outputs": [],
   "source": [
    "!python -m pip install semantic-kernel==0.9.4b1"
   ]
  },
  {
   "cell_type": "code",
   "execution_count": 1,
   "id": "0a235b31",
   "metadata": {},
   "outputs": [],
   "source": [
    "from services import Service\n",
    "\n",
    "# Select a service to use for this notebook (available services: OpenAI, AzureOpenAI, HuggingFace)\n",
    "selectedService = Service.OpenAI"
   ]
  },
  {
   "cell_type": "code",
   "execution_count": 2,
   "id": "68301108",
   "metadata": {},
   "outputs": [],
   "source": [
    "import semantic_kernel as sk\n",
    "import semantic_kernel.connectors.ai.open_ai as sk_oai\n",
    "from semantic_kernel.prompt_template.input_variable import InputVariable\n",
    "from semantic_kernel.contents.chat_history import ChatHistory\n",
    "from semantic_kernel.functions.kernel_arguments import KernelArguments\n",
    "\n",
    "kernel = sk.Kernel()\n",
    "\n",
    "service_id = None\n",
    "if selectedService == Service.OpenAI:\n",
    "    from semantic_kernel.connectors.ai.open_ai import OpenAIChatCompletion\n",
    "\n",
    "    api_key, org_id = sk.openai_settings_from_dot_env()\n",
    "    service_id = \"oai_chat_gpt\"\n",
    "    kernel.add_service(\n",
    "        OpenAIChatCompletion(service_id=service_id, ai_model_id=\"gpt-3.5-turbo-1106\", api_key=api_key, org_id=org_id),\n",
    "    )\n",
    "elif selectedService == Service.AzureOpenAI:\n",
    "    from semantic_kernel.connectors.ai.open_ai import AzureChatCompletion\n",
    "\n",
    "    deployment, api_key, endpoint = sk.azure_openai_settings_from_dot_env()\n",
    "    service_id = \"aoai_chat_completion\"\n",
    "    kernel.add_service(\n",
    "        AzureChatCompletion(service_id=service_id, deployment_name=deployment, endpoint=endpoint, api_key=api_key),\n",
    "    )"
   ]
  },
  {
   "attachments": {},
   "cell_type": "markdown",
   "id": "7971783d",
   "metadata": {},
   "source": [
    "Let's define a prompt outlining a dialogue chat bot."
   ]
  },
  {
   "cell_type": "code",
   "execution_count": 3,
   "id": "e84a05fc",
   "metadata": {},
   "outputs": [],
   "source": [
    "prompt = \"\"\"\n",
    "ChatBot can have a conversation with you about any topic.\n",
    "It can give explicit instructions or say 'I don't know' if it does not have an answer.\n",
    "\n",
    "{{$history}}\n",
    "User: {{$user_input}}\n",
    "ChatBot: \"\"\""
   ]
  },
  {
   "attachments": {},
   "cell_type": "markdown",
   "id": "61716b16",
   "metadata": {},
   "source": [
    "Register your semantic function"
   ]
  },
  {
   "cell_type": "code",
   "execution_count": 4,
   "id": "a3e4b160",
   "metadata": {},
   "outputs": [],
   "source": [
    "if selectedService == Service.OpenAI:\n",
    "    execution_settings = sk_oai.OpenAIChatPromptExecutionSettings(\n",
    "        service_id=service_id,\n",
    "        ai_model_id=\"gpt-3.5-turbo-1106\",\n",
    "        max_tokens=2000,\n",
    "        temperature=0.7,\n",
    "    )\n",
    "elif selectedService == Service.AzureOpenAI:\n",
    "    execution_settings = sk_oai.OpenAIChatPromptExecutionSettings(\n",
    "        service_id=service_id,\n",
    "        ai_model_id=deployment,\n",
    "        max_tokens=2000,\n",
    "        temperature=0.7,\n",
    "    )\n",
    "\n",
    "prompt_template_config = sk.PromptTemplateConfig(\n",
    "    template=prompt,\n",
    "    name=\"chat\",\n",
    "    template_format=\"semantic-kernel\",\n",
    "    input_variables=[\n",
    "        InputVariable(name=\"input\", description=\"The user input\", is_required=True),\n",
    "        InputVariable(name=\"history\", description=\"The conversation history\", is_required=True),\n",
    "    ],\n",
    "    execution_settings=execution_settings,\n",
    ")\n",
    "\n",
    "chat_function = kernel.create_function_from_prompt(\n",
    "    function_name=\"chat\",\n",
    "    plugin_name=\"chatPlugin\",\n",
    "    prompt_template_config=prompt_template_config,\n",
    ")"
   ]
  },
  {
   "cell_type": "code",
   "execution_count": 5,
   "id": "6a0f7c01",
   "metadata": {},
   "outputs": [],
   "source": [
    "chat_history = ChatHistory()\n",
    "chat_history.add_system_message(\"You are a helpful chatbot who is good about giving book recommendations.\")"
   ]
  },
  {
   "attachments": {},
   "cell_type": "markdown",
   "id": "6e8a676f",
   "metadata": {},
   "source": [
    "Initialize the Kernel Arguments"
   ]
  },
  {
   "cell_type": "code",
   "execution_count": 6,
   "id": "a4be7394",
   "metadata": {},
   "outputs": [],
   "source": [
    "arguments = KernelArguments(user_input=\"Hi, I'm looking for book suggestions\", history=chat_history)"
   ]
  },
  {
   "attachments": {},
   "cell_type": "markdown",
   "id": "4ce7c497",
   "metadata": {},
   "source": [
    "Chat with the Bot"
   ]
  },
  {
   "cell_type": "code",
   "execution_count": 7,
   "id": "5ec41eb8",
   "metadata": {},
   "outputs": [
    {
     "name": "stdout",
     "output_type": "stream",
     "text": [
      "Sure! I'd be happy to help. What genre or type of book are you interested in?\n"
     ]
    }
   ],
   "source": [
    "response = await kernel.invoke(chat_function, arguments)\n",
    "print(response)"
   ]
  },
  {
   "attachments": {},
   "cell_type": "markdown",
   "id": "a5b03748",
   "metadata": {},
   "source": [
    "Update the history with the output"
   ]
  },
  {
   "cell_type": "code",
   "execution_count": 8,
   "id": "f50f517d",
   "metadata": {},
   "outputs": [],
   "source": [
    "chat_history.add_assistant_message(str(response))"
   ]
  },
  {
   "attachments": {},
   "cell_type": "markdown",
   "id": "23a2eb02",
   "metadata": {},
   "source": [
    "Keep Chatting!"
   ]
  },
  {
   "cell_type": "code",
   "execution_count": 9,
   "id": "c59efe45",
   "metadata": {},
   "outputs": [],
   "source": [
    "async def chat(input_text: str) -> None:\n",
    "    # Save new message in the context variables\n",
    "    print(f\"User: {input_text}\")\n",
    "    chat_history.add_user_message(input_text)\n",
    "\n",
    "    # Process the user message and get an answer\n",
    "    answer = await kernel.invoke(chat_function, KernelArguments(user_input=input_text, history=chat_history))\n",
    "\n",
    "    # Show the response\n",
    "    print(f\"ChatBot: {answer}\")\n",
    "\n",
    "    chat_history.add_assistant_message(str(answer))"
   ]
  },
  {
   "cell_type": "code",
   "execution_count": 10,
   "id": "06ee244e",
   "metadata": {},
   "outputs": [
    {
     "name": "stdout",
     "output_type": "stream",
     "text": [
      "User: I love history and philosophy, I'd like to learn something new about Greece, any suggestion?\n",
      "ChatBot: Certainly! One fascinating book that delves into both history and philosophy is \"The Greeks\" by H. D. F. Kitto. This book provides a comprehensive and engaging exploration of ancient Greek civilization, covering topics such as Greek mythology, philosophy, politics, and society. It offers an insightful look into the influential ideas and events that shaped ancient Greece, making it a great choice for anyone interested in learning more about this captivating period in history.\n"
     ]
    }
   ],
   "source": [
    "await chat(\"I love history and philosophy, I'd like to learn something new about Greece, any suggestion?\")"
   ]
  },
  {
   "cell_type": "code",
   "execution_count": 11,
   "id": "82be4e7e",
   "metadata": {},
   "outputs": [
    {
     "name": "stdout",
     "output_type": "stream",
     "text": [
      "User: that sounds interesting, what is it about?\n",
      "ChatBot: \"The Greeks\" by H. D. F. Kitto offers a comprehensive exploration of ancient Greek civilization, covering various aspects of Greek life, including mythology, philosophy, politics, and society. The book provides insights into the influential ideas and events that shaped ancient Greece, making it a great choice for readers interested in delving into the rich history and philosophical contributions of this fascinating culture.\n"
     ]
    }
   ],
   "source": [
    "await chat(\"that sounds interesting, what is it about?\")"
   ]
  },
  {
   "cell_type": "code",
   "execution_count": 12,
   "id": "82fe0139",
   "metadata": {},
   "outputs": [
    {
     "name": "stdout",
     "output_type": "stream",
     "text": [
      "User: if I read that book, what exactly will I learn about Greek history?\n",
      "ChatBot: By reading \"The Greeks\" by H. D. F. Kitto, you will gain a deeper understanding of ancient Greek civilization, including its mythology, philosophy, politics, and society. The book delves into the origins of Greek civilization, the development of Greek city-states, the impact of Greek mythology and religion, the contributions of Greek philosophers, and the cultural and intellectual achievements of the ancient Greeks. You will also learn about key historical events and influential figures that shaped ancient Greece, providing a comprehensive overview of this captivating period in history.\n"
     ]
    }
   ],
   "source": [
    "await chat(\"if I read that book, what exactly will I learn about Greek history?\")"
   ]
  },
  {
   "cell_type": "code",
   "execution_count": 13,
   "id": "55b3a9f2",
   "metadata": {},
   "outputs": [
    {
     "name": "stdout",
     "output_type": "stream",
     "text": [
      "User: could you list some more books I could read about this topic?\n",
      "ChatBot: Certainly! Here are a few more books about ancient Greece that you might find interesting:\n",
      "\n",
      "1. \"The Histories\" by Herodotus - Considered one of the earliest works of history, this book provides a detailed account of the Greco-Persian Wars and offers valuable insights into ancient Greek culture and society.\n",
      "\n",
      "2. \"The Peloponnesian War\" by Thucydides - This classic work offers a thorough and analytical account of the Peloponnesian War, providing a unique perspective on ancient Greek military and political history.\n",
      "\n",
      "3. \"The Iliad\" and \"The Odyssey\" by Homer - These epic poems are essential reading for anyone interested in ancient Greek literature and mythology, offering timeless stories of heroism, adventure, and the Greek gods.\n",
      "\n",
      "4. \"The Republic\" by Plato - This influential philosophical work explores the nature of justice, the ideal society, and the role of the philosopher-king, offering valuable insights into ancient Greek philosophy and political thought.\n",
      "\n",
      "These books provide diverse perspectives on ancient Greece, including history, literature, philosophy, and politics, and can offer a comprehensive understanding of this fascinating civilization.\n"
     ]
    }
   ],
   "source": [
    "await chat(\"could you list some more books I could read about this topic?\")"
   ]
  },
  {
   "cell_type": "code",
   "execution_count": 14,
   "id": "dbd2bc0e",
   "metadata": {},
   "outputs": [
    {
     "name": "stdout",
     "output_type": "stream",
     "text": [
      "User: what are some important themes from The Iliad?\n",
      "ChatBot: Some important themes from \"The Iliad\" include:\n",
      "\n",
      "1. War and its consequences: The epic poem explores the devastating impact of war on individuals, families, and society, depicting the brutality and tragedy of battle.\n",
      "\n",
      "2. Honor and glory: The concept of honor and the pursuit of glory are central themes in \"The Iliad,\" as warriors seek to earn renown through heroic deeds on the battlefield.\n",
      "\n",
      "3. Fate and free will: The tension between fate and free will is a recurring theme, as characters grapple with their predetermined destinies while also making choices that shape their actions and outcomes.\n",
      "\n",
      "4. Gods and mortals: The intervention of the Greek gods in human affairs plays a significant role in the narrative, highlighting the complex relationship between divine influence and mortal agency.\n",
      "\n",
      "5. Friendship and loyalty: The bonds of friendship and loyalty are explored through the relationships between characters, emphasizing the importance of camaraderie and mutual support in times of adversity.\n",
      "\n",
      "These themes contribute to the enduring significance of \"The Iliad\" and continue to resonate with readers across different time periods and cultures.\n"
     ]
    }
   ],
   "source": [
    "await chat(\"what are some important themes from The Iliad?\")"
   ]
  },
  {
   "cell_type": "code",
   "execution_count": 15,
   "id": "b0340828",
   "metadata": {},
   "outputs": [
    {
     "name": "stdout",
     "output_type": "stream",
     "text": [
      "User: what are some interesting aspects about the role of women in Plato's The Republic?\n",
      "ChatBot: In \"The Republic,\" Plato presents an intriguing perspective on the role of women in society. He challenges traditional gender roles and explores the potential equality of women in areas such as education, governance, and the guardianship of the ideal state. Some interesting aspects about the role of women in \"The Republic\" include:\n",
      "\n",
      "1. Equality in education: Plato advocates for equal education for men and women in the ideal city, emphasizing the importance of cultivating intellectual and moral virtues in both genders.\n",
      "\n",
      "2. Women in the guardian class: Plato suggests that women should have the same opportunities as men to become guardians of the state, emphasizing their potential for leadership and the defense of the city.\n",
      "\n",
      "3. Community of women and children: In the ideal city, Plato proposes the concept of a \"community of women and children,\" challenging traditional notions of family and property to promote unity and equality among citizens.\n",
      "\n",
      "These aspects of the role of women in \"The Republic\" offer thought-provoking insights into Plato's vision of an ideal society and raise important questions about gender equality and the potential capabilities of women in governance and intellectual pursuits.\n"
     ]
    }
   ],
   "source": [
    "await chat(\"what are some interesting aspects about the role of women in Plato's The Republic?\")"
   ]
  },
  {
   "attachments": {},
   "cell_type": "markdown",
   "id": "c30bac97",
   "metadata": {},
   "source": [
    "After chatting for a while, we have built a growing history, which we are attaching to each prompt and which contains the full conversation. Let's take a look!"
   ]
  },
  {
   "cell_type": "code",
   "execution_count": 16,
   "id": "5e34ae55",
   "metadata": {},
   "outputs": [
    {
     "name": "stdout",
     "output_type": "stream",
     "text": [
      "<chat_history><message role=\"system\">You are a helpful chatbot who is good about giving book recommendations.</message><message role=\"assistant\">Sure! I'd be happy to help. What genre or type of book are you interested in?</message><message role=\"user\">I love history and philosophy, I'd like to learn something new about Greece, any suggestion?</message><message role=\"assistant\">Certainly! One fascinating book that delves into both history and philosophy is \"The Greeks\" by H. D. F. Kitto. This book provides a comprehensive and engaging exploration of ancient Greek civilization, covering topics such as Greek mythology, philosophy, politics, and society. It offers an insightful look into the influential ideas and events that shaped ancient Greece, making it a great choice for anyone interested in learning more about this captivating period in history.</message><message role=\"user\">that sounds interesting, what is it about?</message><message role=\"assistant\">\"The Greeks\" by H. D. F. Kitto offers a comprehensive exploration of ancient Greek civilization, covering various aspects of Greek life, including mythology, philosophy, politics, and society. The book provides insights into the influential ideas and events that shaped ancient Greece, making it a great choice for readers interested in delving into the rich history and philosophical contributions of this fascinating culture.</message><message role=\"user\">if I read that book, what exactly will I learn about Greek history?</message><message role=\"assistant\">By reading \"The Greeks\" by H. D. F. Kitto, you will gain a deeper understanding of ancient Greek civilization, including its mythology, philosophy, politics, and society. The book delves into the origins of Greek civilization, the development of Greek city-states, the impact of Greek mythology and religion, the contributions of Greek philosophers, and the cultural and intellectual achievements of the ancient Greeks. You will also learn about key historical events and influential figures that shaped ancient Greece, providing a comprehensive overview of this captivating period in history.</message><message role=\"user\">could you list some more books I could read about this topic?</message><message role=\"assistant\">Certainly! Here are a few more books about ancient Greece that you might find interesting:\n",
      "\n",
      "1. \"The Histories\" by Herodotus - Considered one of the earliest works of history, this book provides a detailed account of the Greco-Persian Wars and offers valuable insights into ancient Greek culture and society.\n",
      "\n",
      "2. \"The Peloponnesian War\" by Thucydides - This classic work offers a thorough and analytical account of the Peloponnesian War, providing a unique perspective on ancient Greek military and political history.\n",
      "\n",
      "3. \"The Iliad\" and \"The Odyssey\" by Homer - These epic poems are essential reading for anyone interested in ancient Greek literature and mythology, offering timeless stories of heroism, adventure, and the Greek gods.\n",
      "\n",
      "4. \"The Republic\" by Plato - This influential philosophical work explores the nature of justice, the ideal society, and the role of the philosopher-king, offering valuable insights into ancient Greek philosophy and political thought.\n",
      "\n",
      "These books provide diverse perspectives on ancient Greece, including history, literature, philosophy, and politics, and can offer a comprehensive understanding of this fascinating civilization.</message><message role=\"user\">what are some important themes from The Iliad?</message><message role=\"assistant\">Some important themes from \"The Iliad\" include:\n",
      "\n",
      "1. War and its consequences: The epic poem explores the devastating impact of war on individuals, families, and society, depicting the brutality and tragedy of battle.\n",
      "\n",
      "2. Honor and glory: The concept of honor and the pursuit of glory are central themes in \"The Iliad,\" as warriors seek to earn renown through heroic deeds on the battlefield.\n",
      "\n",
      "3. Fate and free will: The tension between fate and free will is a recurring theme, as characters grapple with their predetermined destinies while also making choices that shape their actions and outcomes.\n",
      "\n",
      "4. Gods and mortals: The intervention of the Greek gods in human affairs plays a significant role in the narrative, highlighting the complex relationship between divine influence and mortal agency.\n",
      "\n",
      "5. Friendship and loyalty: The bonds of friendship and loyalty are explored through the relationships between characters, emphasizing the importance of camaraderie and mutual support in times of adversity.\n",
      "\n",
      "These themes contribute to the enduring significance of \"The Iliad\" and continue to resonate with readers across different time periods and cultures.</message><message role=\"user\">what are some interesting aspects about the role of women in Plato's The Republic?</message><message role=\"assistant\">In \"The Republic,\" Plato presents an intriguing perspective on the role of women in society. He challenges traditional gender roles and explores the potential equality of women in areas such as education, governance, and the guardianship of the ideal state. Some interesting aspects about the role of women in \"The Republic\" include:\n",
      "\n",
      "1. Equality in education: Plato advocates for equal education for men and women in the ideal city, emphasizing the importance of cultivating intellectual and moral virtues in both genders.\n",
      "\n",
      "2. Women in the guardian class: Plato suggests that women should have the same opportunities as men to become guardians of the state, emphasizing their potential for leadership and the defense of the city.\n",
      "\n",
      "3. Community of women and children: In the ideal city, Plato proposes the concept of a \"community of women and children,\" challenging traditional notions of family and property to promote unity and equality among citizens.\n",
      "\n",
      "These aspects of the role of women in \"The Republic\" offer thought-provoking insights into Plato's vision of an ideal society and raise important questions about gender equality and the potential capabilities of women in governance and intellectual pursuits.</message></chat_history>\n"
     ]
    }
   ],
   "source": [
    "print(chat_history)"
   ]
  }
 ],
 "metadata": {
  "kernelspec": {
   "display_name": "Python 3 (ipykernel)",
   "language": "python",
   "name": "python3"
  },
  "language_info": {
   "codemirror_mode": {
    "name": "ipython",
    "version": 3
   },
   "file_extension": ".py",
   "mimetype": "text/x-python",
   "name": "python",
   "nbconvert_exporter": "python",
   "pygments_lexer": "ipython3",
   "version": "3.12.2"
  }
 },
 "nbformat": 4,
 "nbformat_minor": 5
}
